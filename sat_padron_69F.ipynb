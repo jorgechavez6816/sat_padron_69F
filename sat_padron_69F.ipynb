{
 "cells": [
  {
   "cell_type": "code",
   "execution_count": 7,
   "metadata": {},
   "outputs": [],
   "source": [
    "#Procedimiento robotizado de obtención de padrón Art.69-F 1,2 párrafo del CFF\n",
    "import pandas as pd\n",
    "\n",
    "url1 = 'http://omawww.sat.gob.mx/cifras_sat/Documents/Listado_Completo_69-B.csv'\n",
    "df1 = pd.read_csv(url1, encoding='latin-1') \n",
    "df1.to_csv('C:\\\\Users\\\\Intel\\\\Documents\\\\Mis documentos IDEA\\\\Samples\\\\Archivos fuente.ILB\\\\Listado_Completo_69-B.csv', encoding=\"utf-8\")\n",
    "\n",
    "url2 = 'http://omawww.sat.gob.mx/cifras_sat/Documents/Definitivos.csv'\n",
    "df2 = pd.read_csv(url2, encoding='latin-1')  \n",
    "df2.to_csv('C:\\\\Users\\\\Intel\\\\Documents\\\\Mis documentos IDEA\\\\Samples\\\\Archivos fuente.ILB\\\\Definitivos.csv', encoding=\"utf-8\")\n",
    "\n",
    "url3 = 'http://omawww.sat.gob.mx/cifras_sat/Documents/Desvirtuados.csv'\n",
    "df3 = pd.read_csv(url3, encoding='latin-1')  \n",
    "df3.to_csv('C:\\\\Users\\\\Intel\\\\Documents\\\\Mis documentos IDEA\\\\Samples\\\\Archivos fuente.ILB\\\\Desvirtuados.csv', encoding=\"utf-8\")\n",
    "\n",
    "url4 = 'http://omawww.sat.gob.mx/cifras_sat/Documents/Presuntos.csv'\n",
    "df4 = pd.read_csv(url4, encoding='latin-1')  \n",
    "df4.to_csv('C:\\\\Users\\\\Intel\\\\Documents\\\\Mis documentos IDEA\\\\Samples\\\\Archivos fuente.ILB\\\\Presuntos.csv', encoding=\"utf-8\")\n",
    "\n",
    "url5 = 'http://omawww.sat.gob.mx/cifras_sat/Documents/SentenciasFavorables.csv'\n",
    "df5 = pd.read_csv(url5, encoding='latin-1')  \n",
    "df5.to_csv('C:\\\\Users\\\\Intel\\\\Documents\\\\Mis documentos IDEA\\\\Samples\\\\Archivos fuente.ILB\\\\SentenciasFavorables.csv', encoding=\"utf-8\")\n",
    "\n",
    "    "
   ]
  },
  {
   "cell_type": "code",
   "execution_count": null,
   "metadata": {},
   "outputs": [],
   "source": []
  }
 ],
 "metadata": {
  "kernelspec": {
   "display_name": "Python 3",
   "language": "python",
   "name": "python3"
  },
  "language_info": {
   "codemirror_mode": {
    "name": "ipython",
    "version": 3
   },
   "file_extension": ".py",
   "mimetype": "text/x-python",
   "name": "python",
   "nbconvert_exporter": "python",
   "pygments_lexer": "ipython3",
   "version": "3.7.6"
  }
 },
 "nbformat": 4,
 "nbformat_minor": 4
}
